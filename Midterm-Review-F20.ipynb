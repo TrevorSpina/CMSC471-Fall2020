{
 "cells": [
  {
   "cell_type": "markdown",
   "metadata": {
    "slideshow": {
     "slide_type": "slide"
    }
   },
   "source": [
    "#### <h1><center>CMSC 471: Introduction to Artificial Intelligence</center></h1>\n",
    "\n",
    "<center><img src=\"img/title.jpeg\" align=\"center\"/></center>\n",
    "\n",
    "\n",
    "<h3 style=\"color:blue;\"><center>Instructor: Fereydoon Vafaei</center></h3>\n",
    "\n",
    "\n",
    "<h5 style=\"color:purple;\"><center>Midterm Review Session</center></h5>\n",
    "\n",
    "<center><img src=\"img/UMBC_logo.png\" align=\"center\"/></center>"
   ]
  },
  {
   "cell_type": "markdown",
   "metadata": {
    "slideshow": {
     "slide_type": "slide"
    }
   },
   "source": [
    "<h1><center>Agenda</center></h1>\n",
    "\n",
    "- <b> Structure of the midterm exam:</b> Types of questions\n",
    "\n",
    "- Logic Review\n",
    "\n",
    "- CSP Review\n",
    "\n",
    "- Adversarial Seacrh Review\n",
    "\n",
    "- Informed Search and Heuristics Review (GBFS, A*, admissibility and consistency)\n",
    "\n",
    "- Uninformed Search Review: BFS, DFS\n"
   ]
  },
  {
   "cell_type": "markdown",
   "metadata": {
    "slideshow": {
     "slide_type": "slide"
    }
   },
   "source": [
    "<h1><center>Midterm Exam Structure - Part I - Concepts and Definitions</center></h1>\n",
    "\n",
    "- True/False\n",
    "\n",
    "- Multiple-Choice Questions\n",
    "\n",
    "- Multiple-Answer Questions (None, One, Some, or All may apply)\n",
    "\n",
    "- Short Answer Questions - fill in the blank or fill in multiple blanks\n",
    "\n",
    "- Definitions and concepts from all chapters 1-7 may be asked including but not limited to Ch-1 and Ch-2:\n",
    "    - What is AI? (Ch-1) - Definitions, Approaches and Concepts\n",
    "\n",
    "    - Logical Agents (Ch-2) - different types of agents, PEAS, and Environment Charachteristics (observable, deterministic, ...)"
   ]
  },
  {
   "cell_type": "markdown",
   "metadata": {
    "slideshow": {
     "slide_type": "slide"
    }
   },
   "source": [
    "<h1><center>Midterm Exam Structure - Part II - Problem Solving</center></h1>\n",
    "\n",
    "- Problem Solving:\n",
    "    - Logic:\n",
    "        - Propositional Logic Equivalencies and CNF Conversion\n",
    "            - Satisfiable, Unsatisfiable, Valid\n",
    "            - Natural Language to Propositional Logic\n",
    "            - Inference Rules in Propositional Logic\n",
    "    - CSP: Arc Consistency\n",
    "    - Adversarial Search: Alpha-Beta Pruning and Minimax\n",
    "    - Local Search\n",
    "    - Informed Search: Heuristics, Admissibility and Consistency, A* vs Greedy\n",
    "    - Uninformed Search: BFS, DFS, Depth-Limited, Iterative Deepening Search, Bidirectional Search, Uniform-Cost Search"
   ]
  },
  {
   "cell_type": "markdown",
   "metadata": {
    "slideshow": {
     "slide_type": "slide"
    }
   },
   "source": [
    "<h1><center>Logic Review</center></h1>\n",
    "\n",
    "- Introduction and Definitions: Entailment, KB, Semantics, Syntax for Propositional Logic, Soundness and Completeness.\n",
    "\n",
    "    - For instance, you should know that: $\\alpha \\models \\beta$ IFF $\\alpha \\Rightarrow \\beta$ is valid and how entailment $\\models$, implication $\\Rightarrow$, and inference $\\vdash$ differ from each other.\n",
    "\n",
    "\n",
    "- Propositional Logic Equivalencies: Figure 7.11 (make a copy to use in the exam).\n",
    "\n",
    "\n",
    "- CNF: Complete procedure including the distribution of $\\lor$ over $\\land$ to make it \"Conjunction of Disjunctions\".\n",
    "\n",
    "\n",
    "- Inference rules: Modus Ponens, Unit Resolution, Resolution (make a copy to use in the exam). You may be given a KB, and you should prove a conclusion using inference rules."
   ]
  },
  {
   "cell_type": "markdown",
   "metadata": {
    "slideshow": {
     "slide_type": "slide"
    }
   },
   "source": [
    "<h1><center>Propositional Logic Equivalencies (allowed to use)</center></h1>\n",
    "\n",
    "<center><img src=\"img/fig-7.11.png\" align=\"center\"/></center>"
   ]
  },
  {
   "cell_type": "markdown",
   "metadata": {
    "slideshow": {
     "slide_type": "slide"
    }
   },
   "source": [
    "<h1><center>Inference Rules (allowed to use)</center></h1>\n",
    "\n",
    "<center><img src=\"img/inference-rules.png\" align=\"center\"/></center>"
   ]
  },
  {
   "cell_type": "markdown",
   "metadata": {
    "slideshow": {
     "slide_type": "slide"
    }
   },
   "source": [
    "<h1><center>Conjunctive Normal Form (CNF)</center></h1>\n",
    "\n",
    "Procedure to convert Propositional Logic sentences to CNF:\n",
    "\n",
    "- Replace biconditional $(P \\iff Q)$ with $(P \\Rightarrow Q) \\land (Q \\Rightarrow P)$\n",
    "\n",
    "- Eliminate implication. $(P \\Rightarrow Q) \\equiv \\neg P \\lor Q$\n",
    "\n",
    "- Move $\\neg$ inwards, i.e. apply it using DeMorgan or eliminate double-negation if applies.\n",
    "\n",
    "- Distribute $\\lor$ over $\\land$ to make it conjunction of disjunctions - $\\land$ of $\\lor$s.\n",
    "\n",
    "- Flatten nesting. For example: $((P \\lor Q) \\lor R)$ becomes $P\\lor Q \\lor R$"
   ]
  },
  {
   "cell_type": "markdown",
   "metadata": {
    "slideshow": {
     "slide_type": "slide"
    }
   },
   "source": [
    "<h1><center>CSP Review</center></h1>\n",
    "\n",
    "  * $X$ is a set of variables $\\{X_1, X_2, ... X_n\\}$\n",
    "  \n",
    "  \n",
    "  * $D$ is a set of domains $\\{D_1, D_2, ... D_n\\}$, one for each variable\n",
    "  \n",
    "  \n",
    "  * Each domain $D_i$ consists of a set of allowable values $\\{v_1, v_2, ... v_k\\}$\n",
    "  \n",
    "  \n",
    "  * $C$ is a set of constraints $\\{C_1, C_2, ... C_m\\}$ that specify allowable combinations of values\n",
    "  \n",
    "  \n",
    "  * **Solution**: assignment of values to all variables (complete) such that no constraint is violated (consistent).\n",
    "  \n",
    "  \n",
    "  * A solution must be a <b>complete</b> and <b>consistent</b> assignment."
   ]
  },
  {
   "cell_type": "markdown",
   "metadata": {
    "slideshow": {
     "slide_type": "slide"
    }
   },
   "source": [
    "<h1><center>Improving Backtracking Efficiency in Solving CSP</center></h1>\n",
    "\n",
    "Here are some standard techniques to improve the efficiency of backtracking:\n",
    "\n",
    "- Can we detect inevitable failure early? <b>Forward checking</b>.\n",
    "\n",
    "\n",
    "- Which variable should be assigned next? <b>Most constrained variable (aka Mimimum Remianing Values or MRV) & Most constraining variable</b>.\n",
    "\n",
    "\n",
    "- In what order should its values be tried? <b>Least constraining value</b>."
   ]
  },
  {
   "cell_type": "markdown",
   "metadata": {
    "slideshow": {
     "slide_type": "slide"
    }
   },
   "source": [
    "<h1><center>Arc Consistency - Definition</center></h1>\n",
    "<h4><center>You should also know other types of local consistency: node consistency, path consistency, k-consistency</center></h4>\n",
    "\n",
    "- A constraint C_xy is arc consistent w.r.t. x if for each value $v$ in the domain of x, there is an allowed value of y\n",
    "\n",
    "\n",
    "- Similarly, define C_xy as arc consistent w.r.t. y\n",
    "\n",
    "\n",
    "- Binary CSP is arc consistent iff every constraint C_xy is arc consistent w.r.t. x as well as y\n",
    "\n",
    "\n",
    "- When a CSP is not arc consistent, we might be able to make it arc consistent by using the AC3 algorithm – also called enforcing arc consistency.\n",
    "\n",
    "- Like backtracking, there is no guarantee for AC3 to find a consistent solution."
   ]
  },
  {
   "cell_type": "markdown",
   "metadata": {
    "slideshow": {
     "slide_type": "slide"
    }
   },
   "source": [
    "<h1><center>CSP Arc Consistency Example</center></h1>\n",
    "\n",
    "<center><img src=\"img/csp-arc-ex.png\" align=\"center\"/></center>"
   ]
  },
  {
   "cell_type": "markdown",
   "metadata": {
    "slideshow": {
     "slide_type": "slide"
    }
   },
   "source": [
    "<h1><center>Adversarial Search and Alpha-Beta Pruning</center></h1>\n",
    "\n",
    "- Refer to Ch-5 slides, and review all the algorithms.\n",
    "\n",
    "\n",
    "- Practice Alpha-Beta as much as you can!\n",
    "[Practice](abTreePractice-master/index.html) (link is local)"
   ]
  },
  {
   "cell_type": "markdown",
   "metadata": {
    "slideshow": {
     "slide_type": "slide"
    }
   },
   "source": [
    "<h1><center>Local Search, Informed and Uninformed Search</center></h1>\n",
    "\n",
    "- Refer to Ch-4 slides Local Search (hill climbing, simulated annealing, Genetic Algorithms, Beam Search, GD)\n",
    "\n",
    "\n",
    "- Refer to Informed Search Slides and Uninformed Search slides, review class-activities for A* and heusristics, admissibility and consistency, and review Assignment-1 for all search algorithms BFS/DFS, Depth-Limited, Iterative Deepening, Uniform Cost Search, and Bidirectional Search\n",
    "\n",
    "\n",
    "- Review the comparison table of uninformed search strategies."
   ]
  },
  {
   "cell_type": "markdown",
   "metadata": {
    "slideshow": {
     "slide_type": "slide"
    }
   },
   "source": [
    "<h1><center>Study Well and Believe in Yourself!</center></h1>\n",
    "\n",
    "\n",
    "<h1><center>Good Luck!</center></h1>"
   ]
  }
 ],
 "metadata": {
  "celltoolbar": "Slideshow",
  "kernelspec": {
   "display_name": "Python 3",
   "language": "python",
   "name": "python3"
  },
  "language_info": {
   "codemirror_mode": {
    "name": "ipython",
    "version": 3
   },
   "file_extension": ".py",
   "mimetype": "text/x-python",
   "name": "python",
   "nbconvert_exporter": "python",
   "pygments_lexer": "ipython3",
   "version": "3.7.3"
  }
 },
 "nbformat": 4,
 "nbformat_minor": 2
}
